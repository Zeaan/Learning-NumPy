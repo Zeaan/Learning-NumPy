{
 "cells": [
  {
   "cell_type": "code",
   "execution_count": 20,
   "metadata": {},
   "outputs": [],
   "source": [
    "import numpy as np"
   ]
  },
  {
   "cell_type": "code",
   "execution_count": 22,
   "metadata": {},
   "outputs": [
    {
     "name": "stdout",
     "output_type": "stream",
     "text": [
      "This is One dimensional Array\n",
      "[1 2 3 4]\n",
      "This is Two dimensional Array\n",
      "[[1 2]\n",
      " [3 4]]\n",
      "This is Three dimensional Array\n",
      "[[[1 2]\n",
      "  [3 4]]\n",
      "\n",
      " [[5 6]\n",
      "  [7 8]]]\n"
     ]
    }
   ],
   "source": [
    "#One dimensional array\n",
    "a = np.array([1,2,3,4])\n",
    "#Two dimensional array\n",
    "b = np.array([ [1,2],[3,4] ])\n",
    "#Three dimensional array\n",
    "c = np.array([ [ [1,2],[3,4] ] , [ [5,6],[7,8] ] ])\n",
    "\n",
    "print(\"This is One dimensional Array\")\n",
    "print(a)\n",
    "print(\"This is Two dimensional Array\")\n",
    "print(b)\n",
    "print(\"This is Three dimensional Array\")\n",
    "print(c)"
   ]
  },
  {
   "cell_type": "code",
   "execution_count": 25,
   "metadata": {
    "scrolled": true
   },
   "outputs": [
    {
     "name": "stdout",
     "output_type": "stream",
     "text": [
      "3\n",
      "3\n",
      "3\n"
     ]
    }
   ],
   "source": [
    "#To display 3 in these arrays\n",
    "print(a[2])\n",
    "print(b[1][0])\n",
    "print(c[0][1][0])"
   ]
  },
  {
   "cell_type": "code",
   "execution_count": 27,
   "metadata": {},
   "outputs": [
    {
     "name": "stdout",
     "output_type": "stream",
     "text": [
      "1\n",
      "2\n",
      "3\n"
     ]
    }
   ],
   "source": [
    "#To print the dimensions of arrays\n",
    "print(a.ndim)\n",
    "print(b.ndim)\n",
    "print(c.ndim)"
   ]
  },
  {
   "cell_type": "code",
   "execution_count": 28,
   "metadata": {},
   "outputs": [
    {
     "name": "stdout",
     "output_type": "stream",
     "text": [
      "(4,)\n",
      "(2, 2)\n",
      "(2, 2, 2)\n"
     ]
    }
   ],
   "source": [
    "#To print the structure of an array\n",
    "print(a.shape)\n",
    "print(b.shape)\n",
    "print(c.shape)"
   ]
  },
  {
   "cell_type": "code",
   "execution_count": 29,
   "metadata": {},
   "outputs": [
    {
     "name": "stdout",
     "output_type": "stream",
     "text": [
      "4\n",
      "4\n",
      "8\n"
     ]
    }
   ],
   "source": [
    "#To print the total number of elements in array\n",
    "print(a.size)\n",
    "print(b.size)\n",
    "print(c.size)"
   ]
  },
  {
   "cell_type": "code",
   "execution_count": 30,
   "metadata": {},
   "outputs": [
    {
     "name": "stdout",
     "output_type": "stream",
     "text": [
      "[0 1 2 3 4 5 6 7 8 9]\n"
     ]
    }
   ],
   "source": [
    "#To make an array till a number \n",
    "x = 10\n",
    "d = np.arange(x)\n",
    "print(d)"
   ]
  },
  {
   "cell_type": "code",
   "execution_count": 32,
   "metadata": {},
   "outputs": [
    {
     "name": "stdout",
     "output_type": "stream",
     "text": [
      "[10 11 12 13 14 15 16 17 18 19]\n"
     ]
    }
   ],
   "source": [
    "#To make an array from starting number to an ending number\n",
    "starting_num = 10\n",
    "ending_num = 20\n",
    "e = np.arange(starting_num,ending_num)\n",
    "print(e)"
   ]
  },
  {
   "cell_type": "code",
   "execution_count": 33,
   "metadata": {},
   "outputs": [
    {
     "name": "stdout",
     "output_type": "stream",
     "text": [
      "[10 15 20 25 30 35 40 45 50 55 60 65 70 75 80 85 90 95]\n"
     ]
    }
   ],
   "source": [
    "#To make an array from starting number to an ending number with jumps\n",
    "starting_num = 10\n",
    "ending_num = 100\n",
    "jump = 5\n",
    "f = np.arange(starting_num,ending_num,jump)\n",
    "print(f)"
   ]
  },
  {
   "cell_type": "code",
   "execution_count": 34,
   "metadata": {},
   "outputs": [
    {
     "name": "stdout",
     "output_type": "stream",
     "text": [
      "[4 2 1 3]\n",
      "[[3 4]\n",
      " [1 2]]\n",
      "[[[5 6]\n",
      "  [7 8]]\n",
      "\n",
      " [[1 2]\n",
      "  [3 4]]]\n",
      "[4 6 5 0 1 9 2 8 3 7]\n",
      "[18 10 12 15 16 17 11 14 19 13]\n",
      "[15 45 65 60 70 20 40 10 30 50 25 95 55 90 80 75 35 85]\n"
     ]
    }
   ],
   "source": [
    "#Changing the order of arrays in random manner\n",
    "a1 = np.random.permutation(a)\n",
    "b1 = np.random.permutation(b)\n",
    "c1 = np.random.permutation(c)\n",
    "d1 = np.random.permutation(d)\n",
    "e1 = np.random.permutation(e)\n",
    "f1 = np.random.permutation(f)\n",
    "\n",
    "print(a1)\n",
    "print(b1)\n",
    "print(c1)\n",
    "print(d1)\n",
    "print(e1)\n",
    "print(f1)"
   ]
  },
  {
   "cell_type": "code",
   "execution_count": 37,
   "metadata": {},
   "outputs": [
    {
     "data": {
      "text/plain": [
       "18"
      ]
     },
     "execution_count": 37,
     "metadata": {},
     "output_type": "execute_result"
    }
   ],
   "source": [
    "#To create a random number between two numbers\n",
    "starting_num = 10\n",
    "ending_num = 20\n",
    "np.random.randint(starting_num,ending_num)"
   ]
  },
  {
   "cell_type": "code",
   "execution_count": 39,
   "metadata": {},
   "outputs": [
    {
     "name": "stdout",
     "output_type": "stream",
     "text": [
      "[0.50271658 0.12069313 0.49390866 0.45734544 0.25805988 0.75770742\n",
      " 0.02051792 0.93413066 0.39915521 0.27363079]\n"
     ]
    }
   ],
   "source": [
    "#To generate an array of \"n\" Random numbers between 0 and 1\n",
    "n = 10\n",
    "g = np.random.rand(n)\n",
    "print(g)"
   ]
  },
  {
   "cell_type": "code",
   "execution_count": 41,
   "metadata": {},
   "outputs": [
    {
     "name": "stdout",
     "output_type": "stream",
     "text": [
      "[[0.00191187 0.18436719 0.2018674 ]\n",
      " [0.11184529 0.71950412 0.39531446]]\n"
     ]
    }
   ],
   "source": [
    "#To generate a \"m\" dimensional of \"n\" elements Array of Random numbers between 0 and 1\n",
    "m = 2\n",
    "n = 3\n",
    "h = np.random.rand(2,n)\n",
    "print(h)"
   ]
  },
  {
   "cell_type": "code",
   "execution_count": null,
   "metadata": {},
   "outputs": [],
   "source": []
  }
 ],
 "metadata": {
  "kernelspec": {
   "display_name": "Python 3",
   "language": "python",
   "name": "python3"
  },
  "language_info": {
   "codemirror_mode": {
    "name": "ipython",
    "version": 3
   },
   "file_extension": ".py",
   "mimetype": "text/x-python",
   "name": "python",
   "nbconvert_exporter": "python",
   "pygments_lexer": "ipython3",
   "version": "3.8.5"
  }
 },
 "nbformat": 4,
 "nbformat_minor": 4
}
